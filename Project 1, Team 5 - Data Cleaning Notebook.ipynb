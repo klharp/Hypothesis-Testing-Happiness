{
 "cells": [
  {
   "cell_type": "code",
   "execution_count": null,
   "metadata": {},
   "outputs": [],
   "source": [
    "import pandas as pd\n",
    "import numpy as np\n",
    "import requests\n",
    "import time\n",
    "from scipy.stats import linregress\n",
    "import matplotlib.pyplot as plt"
   ]
  },
  {
   "cell_type": "code",
   "execution_count": null,
   "metadata": {},
   "outputs": [],
   "source": [
    "# The path to our Happiness Score CSV file\n",
    "hs_file = \"Data/WorldHappinessAll.csv\"\n",
    "\n",
    "# Read our Happiness Score data into pandas\n",
    "hs_df = pd.read_csv(hs_file)\n",
    "hs_df.head()"
   ]
  },
  {
   "cell_type": "code",
   "execution_count": null,
   "metadata": {},
   "outputs": [],
   "source": [
    "# The path to our Social Progress CSV file\n",
    "sp_file = \"Data/2011-2020-Social-Progress-Index.csv\"\n",
    "\n",
    "# Read our Social Progress data into pandas\n",
    "sp_df = pd.read_csv(sp_file, encoding = \"ISO-8859-1\")\n",
    "sp_df.head()"
   ]
  },
  {
   "cell_type": "code",
   "execution_count": null,
   "metadata": {},
   "outputs": [],
   "source": [
    "# Check or NaN values in Happiness Score df\n",
    "hs_df.count()"
   ]
  },
  {
   "cell_type": "code",
   "execution_count": null,
   "metadata": {},
   "outputs": [],
   "source": [
    "# Check for NaN values in Social Progress df\n",
    "sp_df.count()"
   ]
  },
  {
   "cell_type": "code",
   "execution_count": null,
   "metadata": {},
   "outputs": [],
   "source": [
    "# Drop NaN values for Social Progress\n",
    "nonan_sp_df = sp_df.dropna()\n",
    "nonan_sp_df.count()"
   ]
  },
  {
   "cell_type": "code",
   "execution_count": null,
   "metadata": {},
   "outputs": [],
   "source": [
    "# Note which columns come from which df for post merge file\n",
    "suffix_hs_df = hs_df.add_suffix(\"_HS\")\n",
    "suffix_nonan_sp_df = nonan_sp_df.add_suffix(\"_SP\")"
   ]
  },
  {
   "cell_type": "code",
   "execution_count": null,
   "metadata": {},
   "outputs": [],
   "source": [
    "# Create target column to merge dataframes on year and country\n",
    "suffix_nonan_sp_df[\"Country & Year\"] = suffix_nonan_sp_df[\"SPI year_SP\"].astype(str) + suffix_nonan_sp_df[\"Country_SP\"]\n",
    "suffix_nonan_sp_df.head()"
   ]
  },
  {
   "cell_type": "code",
   "execution_count": null,
   "metadata": {},
   "outputs": [],
   "source": [
    "# Create target column to merge dataframes on year and country\n",
    "suffix_hs_df[\"Country & Year\"] = suffix_hs_df[\"Year_HS\"].astype(str) + suffix_hs_df[\"Country or region_HS\"]\n",
    "suffix_hs_df.head()"
   ]
  },
  {
   "cell_type": "code",
   "execution_count": null,
   "metadata": {},
   "outputs": [],
   "source": [
    "# Merge data to only include countries that have data in both Social Progress and Happiness Score dfs\n",
    "merge_df = pd.merge(suffix_hs_df, suffix_nonan_sp_df, on=\"Country & Year\")\n",
    "merge_df"
   ]
  },
  {
   "cell_type": "code",
   "execution_count": null,
   "metadata": {},
   "outputs": [],
   "source": [
    "# Export file as a CSV, without the Pandas index, but with the header\n",
    "merge_df.to_csv(\"Data/merge.csv\", index=False, header=True)"
   ]
  },
  {
   "cell_type": "code",
   "execution_count": null,
   "metadata": {},
   "outputs": [],
   "source": [
    "country_compare_df = merge_df[['Country or region_HS', 'Country_SP']]\n",
    "country_compare_df.count()"
   ]
  },
  {
   "cell_type": "code",
   "execution_count": null,
   "metadata": {},
   "outputs": [],
   "source": [
    "den_file = \"Data/population_density.csv\"\n",
    "\n",
    "# Read our Social Progress data into pandas\n",
    "density_df = pd.read_csv(den_file, encoding = \"ISO-8859-1\")\n",
    "density_df"
   ]
  },
  {
   "cell_type": "code",
   "execution_count": null,
   "metadata": {},
   "outputs": [],
   "source": [
    "country_df = density_df.loc[density_df['Type'] == 'Country/Area']\n",
    "rename_country = country_df.rename(columns={'Region, subregion, country or area *':'Country'})"
   ]
  },
  {
   "cell_type": "code",
   "execution_count": null,
   "metadata": {},
   "outputs": [],
   "source": [
    "clean_country = rename_country[['Country','2015', '2016', '2017', '2018', '2019']]\n",
    "clean_country['Country'] = clean_country['Country'].replace({'United States of America':'United States'})\n",
    "clean_country['Country'] = clean_country['Country'].replace({'United Republic of Tanzania':'Tanzania'})\n",
    "clean_country['Country'] = clean_country['Country'].replace({'Russian Federation':'Russia'})\n",
    "density_2015 = clean_country[['Country', '2015']]\n",
    "density_2016 = clean_country[['Country', '2016']]\n",
    "density_2017 = clean_country[['Country', '2017']]\n",
    "density_2018 = clean_country[['Country', '2018']]\n",
    "density_2019 = clean_country[['Country', '2019']]\n",
    "density_2019['Country']"
   ]
  },
  {
   "cell_type": "code",
   "execution_count": null,
   "metadata": {},
   "outputs": [],
   "source": [
    "density_2015 = density_2015.rename(columns={'2015':'Population Density'})\n",
    "density_2016 = density_2016.rename(columns={'2016':'Population Density'})\n",
    "density_2017 = density_2017.rename(columns={'2017':'Population Density'})\n",
    "density_2018 = density_2018.rename(columns={'2018':'Population Density'})\n",
    "density_2019 = density_2019.rename(columns={'2019':'Population Density'})\n",
    "density_2019.loc[density_2019['Country'] == 'Russia']"
   ]
  },
  {
   "cell_type": "code",
   "execution_count": null,
   "metadata": {},
   "outputs": [],
   "source": [
    "density_2015['Country & Year'] = ('2015')+density_2015['Country']\n",
    "density_2016['Country & Year'] = ('2016')+density_2016['Country']\n",
    "density_2017['Country & Year'] = ('2017')+density_2017['Country']\n",
    "density_2018['Country & Year'] = ('2018')+density_2018['Country']\n",
    "density_2019['Country & Year'] = ('2019')+density_2019['Country']\n",
    "density_2015.loc[(density_2015['Country'] == 'Finland') | \n",
    "                 (density_2015['Country'] == 'Denmark') |\n",
    "                 (density_2015['Country'] == 'Norway')  |\n",
    "                 (density_2015['Country'] == 'Iceland')]"
   ]
  },
  {
   "cell_type": "code",
   "execution_count": null,
   "metadata": {},
   "outputs": [],
   "source": [
    "v1 = density_2015.append(density_2016)"
   ]
  },
  {
   "cell_type": "code",
   "execution_count": null,
   "metadata": {},
   "outputs": [],
   "source": [
    "v2 = v1.append(density_2017)"
   ]
  },
  {
   "cell_type": "code",
   "execution_count": null,
   "metadata": {},
   "outputs": [],
   "source": [
    "v3 = v2.append(density_2018)"
   ]
  },
  {
   "cell_type": "code",
   "execution_count": null,
   "metadata": {},
   "outputs": [],
   "source": [
    "v4 = v3.append(density_2019)"
   ]
  },
  {
   "cell_type": "code",
   "execution_count": null,
   "metadata": {},
   "outputs": [],
   "source": [
    "v4"
   ]
  },
  {
   "cell_type": "code",
   "execution_count": null,
   "metadata": {},
   "outputs": [],
   "source": [
    "new_merge = merge_df\n",
    "new_merge['Country & Year'] = new_merge[\"Year_HS\"].astype(str) + new_merge[\"Country or region_HS\"]"
   ]
  },
  {
   "cell_type": "code",
   "execution_count": null,
   "metadata": {},
   "outputs": [],
   "source": [
    "combined_merge = pd.merge(v4, new_merge, on=\"Country & Year\", how='right')\n",
    "combined_merge"
   ]
  },
  {
   "cell_type": "code",
   "execution_count": null,
   "metadata": {},
   "outputs": [],
   "source": [
    "pop_den = combined_merge['Population Density'].astype('float64')\n",
    "hap_score = combined_merge['Score_HS'].astype('float64')\n",
    "sp_index = combined_merge['Social Progress Index_SP'].astype('float64')"
   ]
  },
  {
   "cell_type": "code",
   "execution_count": null,
   "metadata": {},
   "outputs": [],
   "source": [
    "slope, intercept, rvalue, pvalue, stderr = linregress(pop_den, hap_score)\n",
    "regress_values = pop_den * slope + intercept\n",
    "line_eq = \"y = \" + str(round(slope,2)) + \"x + \" + str(round(intercept,2))\n",
    "plt.scatter(pop_den, hap_score, facecolors = 'lightblue', edgecolors = 'black', s = 40)\n",
    "plt.plot(pop_den,regress_values,\"r-\")\n",
    "plt.annotate(line_eq,(150,4.5),fontsize=15,color=\"red\")\n",
    "plt.title(\"Population Density Vs Happiness Score\")\n",
    "plt.xlabel(\"Population Density (persons per square km)\")\n",
    "plt.ylabel(\"Happiness Score\")\n",
    "print(f\" The R Value is:{rvalue}\")\n",
    "plt.show()"
   ]
  },
  {
   "cell_type": "code",
   "execution_count": null,
   "metadata": {},
   "outputs": [],
   "source": [
    "slope, intercept, rvalue, pvalue, stderr = linregress(pop_den, sp_index)\n",
    "regress_values = pop_den * slope + intercept\n",
    "line_eq = \"y = \" + str(round(slope,2)) + \"x + \" + str(round(intercept,2))\n",
    "plt.scatter(pop_den, sp_index, facecolors = 'lightblue', edgecolors = 'black', s = 40)\n",
    "plt.plot(pop_den,regress_values,\"r-\")\n",
    "plt.annotate(line_eq,(300,60),fontsize=15,color=\"red\")\n",
    "plt.title(\"Population Density Vs Social Progress Score\")\n",
    "plt.xlabel(\"Population Density (persons per square km)\")\n",
    "plt.ylabel(\"Social Progress Score\")\n",
    "print(f\" The R Value is:{rvalue}\")\n",
    "plt.show()"
   ]
  },
  {
   "cell_type": "code",
   "execution_count": null,
   "metadata": {},
   "outputs": [],
   "source": []
  }
 ],
 "metadata": {
  "kernelspec": {
   "display_name": "Python 3",
   "language": "python",
   "name": "python3"
  },
  "language_info": {
   "codemirror_mode": {
    "name": "ipython",
    "version": 3
   },
   "file_extension": ".py",
   "mimetype": "text/x-python",
   "name": "python",
   "nbconvert_exporter": "python",
   "pygments_lexer": "ipython3",
   "version": "3.6.10"
  }
 },
 "nbformat": 4,
 "nbformat_minor": 4
}
